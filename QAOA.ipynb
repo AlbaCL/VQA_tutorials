{
 "cells": [
  {
   "cell_type": "markdown",
   "metadata": {},
   "source": [
    "# Quantum Approximate Optimization Algorithm (QAOA)\n",
    "________________________\n",
    "\n",
    "This demo code reproduces the QAOA for MaxCut problem example from [Qiskit](https://qiskit.org/textbook/ch-applications/qaoa.html) and [Pennylane](https://pennylane.ai/qml/demos/tutorial_qaoa_maxcut.html) tutorials. \n",
    "\n",
    "Here I only present the explicit Tequila code. Check the above tutorials for details about the problem and theory."
   ]
  },
  {
   "cell_type": "code",
   "execution_count": 1,
   "metadata": {},
   "outputs": [],
   "source": [
    "# Import everything we need\n",
    "import tequila as tq\n",
    "import random\n",
    "import numpy as np\n",
    "import matplotlib.pyplot as plt"
   ]
  },
  {
   "cell_type": "code",
   "execution_count": 2,
   "metadata": {},
   "outputs": [],
   "source": [
    "# Some useful functions\n",
    "\n",
    "# Exact ground state from a general Hamiltonian\n",
    "def exact(ham):\n",
    "    ham_matrix = ham.to_matrix()\n",
    "    energ = np.linalg.eigvals(ham_matrix)\n",
    "    return(min(energ))\n",
    "\n",
    "# Exact eigenstates and eigenvalues of a general Hamiltonian\n",
    "def exact_state(ham):\n",
    "    ham_matrix = ham.to_matrix()\n",
    "    eigenValues, eigenVectors = np.linalg.eig(ham_matrix)\n",
    "    idx = eigenValues.argsort()[::-1]   \n",
    "    eigenValues = eigenValues[idx]\n",
    "    eigenVectors = eigenVectors[:,idx]\n",
    "    return(eigenValues,eigenVectors)"
   ]
  },
  {
   "cell_type": "code",
   "execution_count": 3,
   "metadata": {},
   "outputs": [],
   "source": [
    "# Problem Hamiltonian\n",
    "def HP(param,graph):\n",
    "    \"\"\"\n",
    "    param (list): Problem Hamiltonian parameters\n",
    "    graph (2D list): Hamiltonian connectivity\n",
    "    \"\"\"\n",
    "    ham = tq.QubitHamiltonian() \n",
    "    for k in range(len(graph)):\n",
    "        ham -= param[k]*0.5*(1-tq.paulis.Z(graph[k][0])*tq.paulis.Z(graph[k][1]))\n",
    "    return(ham)\n",
    "\n",
    "# commuting part (Pauli string) from the problem Hamiltonian\n",
    "def HP_str(q1,q2):\n",
    "    ham_prob = \"Z({})Z({})\".format(q1,q2)\n",
    "    return ham_prob\n",
    "\n",
    "# commuting part (Pauli string) from the mixing Hamiltonian\n",
    "def HM_str(q1):\n",
    "    ham_mix = \"X({})\".format(q1)\n",
    "    return ham_mix"
   ]
  },
  {
   "cell_type": "code",
   "execution_count": 4,
   "metadata": {},
   "outputs": [],
   "source": [
    "def QAOA_circuit(qubits,layers,graph):\n",
    "    \n",
    "    circuit = tq.QCircuit()\n",
    "    \n",
    "    #init state (eigenstate from the mixing Hamiltonian, |+>^n state for this example)\n",
    "    circuit += tq.gates.H(range(qubits))\n",
    "    \n",
    "    for l in range(layers):\n",
    "        beta = tq.Variable(name=\"beta{}\".format(l))\n",
    "        gamma = tq.Variable(name=\"gamma{}\".format(l)) \n",
    "        for k in range(qubits):\n",
    "            circuit += tq.gates.ExpPauli(angle=beta, paulistring=HM_str(k))\n",
    "        for k in range(len(graph)):\n",
    "            circuit += tq.gates.ExpPauli(angle=gamma, paulistring=HP_str(graph[k][0],graph[k][1]))\n",
    "    \n",
    "    return circuit\n",
    "\n",
    "# VQE hardware-efficient: layer= single-qubit Ry gates + alternating CNOTs\n",
    "# for comparison with QAOA\n",
    "def VQE_HE(qubits,layers):\n",
    "    \n",
    "    circuit = tq.QCircuit()\n",
    "    \n",
    "    for l in range(layers):\n",
    "        for i in range(qubits-1):\n",
    "            th = tq.Variable(name=\"th{}{}\".format(i,l))\n",
    "            circuit += tq.gates.Ry(target=i, angle=th)\n",
    "        # Layer alternating CNOTs\n",
    "        ent0 = np.mod(l, 2)\n",
    "        for ent in range(ent0, qubits - 1, 2):\n",
    "            circuit += tq.gates.CNOT(control=ent, target=ent + 1)\n",
    "    \n",
    "    return circuit\n"
   ]
  },
  {
   "cell_type": "code",
   "execution_count": 8,
   "metadata": {},
   "outputs": [
    {
     "name": "stdout",
     "output_type": "stream",
     "text": [
      "parameters =  [1, 1, 1, 1]\n",
      "graph:  [[0, 1], [0, 3], [1, 2], [2, 3]]\n",
      "exact energy =  (-4+0j)\n",
      "QAOA) 1 layers (2 parameters): -2.0\n",
      "QAOA) 2 layers (4 parameters): -2.999999635412692\n",
      "QAOA) 3 layers (6 parameters): -3.9999990931931464\n",
      "QAOA) 4 layers (8 parameters): -3.9999994309843405\n",
      "QAOA) 5 layers (10 parameters): -3.9999378551577838\n",
      "QAOA) 6 layers (12 parameters): -3.9999883750793974\n",
      "+51.0000|1010> +49.0000|0101> \n",
      "VQE) 1 layers (3 parameters): -1.999999992820456\n",
      "VQE) 2 layers (6 parameters): -3.999999646750707\n",
      "VQE) 3 layers (9 parameters): -3.9990771404706233\n",
      "+100.0000|0101> \n"
     ]
    }
   ],
   "source": [
    "qubits = 4 # number of qubits\n",
    "\n",
    "# To check the results as we consider more layers (variational parameters)\n",
    "lay_max_VQE = 3 # number of maximal layers for VQE hardware efficient ansatz\n",
    "lay_max_QAOA = 2*lay_max_VQE # number of maximal layers for QAOA ansatz\n",
    "\n",
    "# Optimizer options\n",
    "methods = 'COBYLA'\n",
    "grad_methods = '2-point'\n",
    "backend = 'qulacs'\n",
    "lr = 0.01\n",
    "# make sure scipy version is >= 1.5\n",
    "mthd_opt = {'finite_diff_rel_step': 0.0001}\n",
    "\n",
    "# MAX-CUT problem example\n",
    "graph = [[0, 1], [0, 3], [1, 2], [2, 3]]\n",
    "# assuming random parameters\n",
    "#param = [random.uniform(0,1) for i in range(len(graph))]\n",
    "# assuming param=1 (original Max-cut example)\n",
    "param = [1 for i in range(len(graph))]\n",
    "\n",
    "print(\"parameters = \", param)\n",
    "print(\"graph: \", graph)\n",
    "print(\"exact energy = \", exact(HP(param,graph)))\n",
    "#print(\"exact states = \", exact_state(HP(qubits,param,graph)))\n",
    "\n",
    "energ_QAOA = []\n",
    "energ_VQE = []\n",
    "param_QAOA=[]\n",
    "param_VQE=[]\n",
    "\n",
    "for layers in range(1,lay_max_QAOA+1):\n",
    "    \n",
    "    # Objective function\n",
    "    Obj_QAOA = tq.ExpectationValue(H=HP(param,graph), U=QAOA_circuit(qubits,layers,graph))\n",
    "    var_QAOA = Obj_QAOA.extract_variables() # how many variational parameters contain\n",
    "    \n",
    "    # Random initialization of variables\n",
    "    var0 = {key: random.uniform(0, np.pi) for key in var_QAOA}\n",
    "    initial_values = var0\n",
    "    \n",
    "    # classical optimization\n",
    "    QAOA = tq.minimize(objective=Obj_QAOA, adaptive = True, lr=lr, method_options=mthd_opt, method=methods, gradient=grad_methods, samples=None,\n",
    "                          initial_values=initial_values, backend=backend, noise=None, device=None, silent=True)      \n",
    "    \n",
    "    energ_QAOA.append(QAOA.energy) # energy solution\n",
    "    # QA0A.angles # solution (variational parameters)\n",
    "    param_QAOA.append(len(var_QAOA))\n",
    "    \n",
    "    print(f\"QAOA) {layers} layers ({len(var_QAOA)} parameters): {QAOA.energy}\")\n",
    "\n",
    "# Simulate wavefunction final number of layers \n",
    "wfn = tq.simulate(QAOA_circuit(qubits,layers,graph), samples=100, variables=QAOA.angles, backend=backend)\n",
    "print(wfn)\n",
    "\n",
    "\n",
    "# Hardware-efficient VQE\n",
    "\n",
    "for layers in range(1,lay_max_VQE+1):\n",
    "    \n",
    "    Obj_VQE = tq.ExpectationValue(H=HP(param,graph), U=VQE_HE(qubits,layers))\n",
    "    var_VQE = Obj_VQE.extract_variables()\n",
    "    \n",
    "    # Random initialization of variables\n",
    "    var0 = {key: random.uniform(0, np.pi) for key in var_VQE}\n",
    "    initial_values = var0\n",
    "    \n",
    "    VQE = tq.minimize(objective=Obj_VQE, adaptive = True, lr=lr, method_options=mthd_opt, method=methods, gradient=grad_methods, samples=None,\n",
    "                          initial_values=initial_values, backend=backend, noise=None, device=None, silent=True)      \n",
    "    \n",
    "    energ_VQE.append(VQE.energy)\n",
    "    param_VQE.append(len(var_VQE))\n",
    "    \n",
    "    print(f\"VQE) {layers} layers ({len(var_VQE)} parameters): {VQE.energy}\")\n",
    "    \n",
    "wfn = tq.simulate(VQE_HE(qubits,layers), samples=100, variables=VQE.angles, backend=backend)\n",
    "print(wfn)"
   ]
  },
  {
   "cell_type": "code",
   "execution_count": 9,
   "metadata": {},
   "outputs": [
    {
     "data": {
      "image/png": "[encoded data removed]",
      "text/plain": [
       "<Figure size 432x288 with 1 Axes>"
      ]
     },
     "metadata": {
      "needs_background": "light"
     },
     "output_type": "display_data"
    }
   ],
   "source": [
    "# Plot the results\n",
    "plt.plot(param_QAOA,energ_QAOA, marker=\"*\", markersize=10,label=\"QAOA\")\n",
    "plt.plot(param_VQE,energ_VQE,marker=\".\",markersize=10,label=\"VQE\")\n",
    "plt.axhline(exact(HP(param,graph)), color=\"black\", linestyle=\":\", label=\"exact\")\n",
    "plt.xlabel(\"Variational parameters\")\n",
    "plt.ylabel(\"Objective\")\n",
    "plt.legend()\n",
    "plt.show()"
   ]
  },
  {
   "cell_type": "markdown",
   "metadata": {},
   "source": [
    "## Some questions and suggestions\n",
    "\n",
    "- VQE vs QAOA not clear which one is better (this is a very simple example). Explore the advantages of QAOA (precision of the results, number of variational parameters, circuit depth, etc).\n",
    "- Almost all QAOA tutorials use the \"square\" MAX-CUT problem. Other problems where combinatorial optimization is required? (e.g. Travelling Salesman Problem)\n",
    "- Write a beautiful Tequila tutorial about QAOA, upload it to the [Tequila tutorials Github](https://github.com/aspuru-guzik-group/tequila-tutorials) and become a Tequila contributor!"
   ]
  },
  {
   "cell_type": "code",
   "execution_count": null,
   "metadata": {},
   "outputs": [],
   "source": []
  }
 ],
 "metadata": {
  "kernelspec": {
   "display_name": "Python [conda env:tqenv2] *",
   "language": "python",
   "name": "conda-env-tqenv2-py"
  },
  "language_info": {
   "codemirror_mode": {
    "name": "ipython",
    "version": 3
   },
   "file_extension": ".py",
   "mimetype": "text/x-python",
   "name": "python",
   "nbconvert_exporter": "python",
   "pygments_lexer": "ipython3",
   "version": "3.8.6"
  }
 },
 "nbformat": 4,
 "nbformat_minor": 4
}
