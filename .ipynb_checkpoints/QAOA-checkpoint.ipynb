{
 "cells": [
  {
   "cell_type": "code",
   "execution_count": 12,
   "metadata": {},
   "outputs": [],
   "source": [
    "import tequila as tq\n",
    "import random\n",
    "import numpy as np\n",
    "import matplotlib.pyplot as plt"
   ]
  },
  {
   "cell_type": "code",
   "execution_count": 53,
   "metadata": {},
   "outputs": [],
   "source": [
    "def HP(qubits,param,graph):\n",
    "    ham = tq.QubitHamiltonian() \n",
    "    for k in range(len(graph)):\n",
    "        ham -= param[k]*0.5*(1-tq.paulis.Z(graph[k][0])*tq.paulis.Z(graph[k][1]))\n",
    "    return(ham)\n",
    "\n",
    "def exact(ham):\n",
    "    ham_matrix = ham.to_matrix()\n",
    "    energ = np.linalg.eigvals(ham_matrix)\n",
    "    return(min(energ))\n",
    "\n",
    "def exact_state(ham):\n",
    "    ham_matrix = ham.to_matrix()\n",
    "    eigenValues, eigenVectors = np.linalg.eig(ham_matrix)\n",
    "    idx = eigenValues.argsort()[::-1]   \n",
    "    eigenValues = eigenValues[idx]\n",
    "    eigenVectors = eigenVectors[:,idx]\n",
    "    return(eigenValues,eigenVectors)\n",
    "    \n",
    "\n",
    "# commuting\n",
    "def HP_str(q1,q2):\n",
    "    ham_prob = \"Z({})Z({})\".format(q1,q2)\n",
    "    return ham_prob\n",
    "\n",
    "# commuting\n",
    "def HM_str(q1):\n",
    "    ham_mix = \"X({})\".format(q1)\n",
    "    return ham_mix\n",
    "\n",
    "def QAOA_circuit(qubits,layers,graph):\n",
    "    \n",
    "    circuit = tq.QCircuit()\n",
    "    \n",
    "    #init state\n",
    "    circuit += tq.gates.H(range(qubits))\n",
    "    \n",
    "    for l in range(layers):\n",
    "        beta = tq.Variable(name=\"beta{}\".format(l))\n",
    "        gamma = tq.Variable(name=\"gamma{}\".format(l)) \n",
    "        for k in range(qubits):\n",
    "            circuit += tq.gates.ExpPauli(angle=beta, paulistring=HM_str(k))\n",
    "        for k in range(len(graph)):\n",
    "            circuit += tq.gates.ExpPauli(angle=gamma, paulistring=HP_str(graph[k][0],graph[k][1]))\n",
    "    \n",
    "    return circuit\n",
    "\n",
    "# VQE hardware-efficient\n",
    "def VQE_HE(qubits,layers):\n",
    "    \n",
    "    circuit = tq.QCircuit()\n",
    "    \n",
    "    for l in range(layers):\n",
    "        for i in range(qubits-1):\n",
    "            th = tq.Variable(name=\"th{}{}\".format(i,l))\n",
    "            circuit += tq.gates.Ry(target=i, angle=th)\n",
    "        # Layer alternating CNOTs\n",
    "        ent0 = np.mod(l, 2)\n",
    "        for ent in range(ent0, qubits - 1, 2):\n",
    "            circuit += tq.gates.CNOT(control=ent, target=ent + 1)\n",
    "    \n",
    "    return circuit\n"
   ]
  },
  {
   "cell_type": "code",
   "execution_count": 94,
   "metadata": {},
   "outputs": [
    {
     "name": "stdout",
     "output_type": "stream",
     "text": [
      "parameters =  [0.7052182528768369, 0.16010323030295082, 0.6757157095308177, 0.853424735167381]\n",
      "exact =  (-2.3944619278779866+0j)\n",
      "QAOA) 1 layers (2 parameters): -1.1972309639389933\n",
      "QAOA) 2 layers (4 parameters): -1.7958461377320352\n",
      "QAOA) 3 layers (6 parameters): -2.394458886537584\n",
      "QAOA) 4 layers (8 parameters): -2.3944602476340844\n",
      "QAOA) 5 layers (10 parameters): -2.3944537868431555\n",
      "+45.0000|0101> +55.0000|1010> \n",
      "VQE) 1 layers (3 parameters): -1.3809339315372884\n",
      "VQE) 2 layers (6 parameters): -2.394461483037278\n",
      "VQE) 3 layers (9 parameters): -2.3939382957565196\n",
      "+100.0000|1010> \n"
     ]
    }
   ],
   "source": [
    "qubits = 4\n",
    "lay_max = 3\n",
    "\n",
    "# Optimizer options\n",
    "methods = 'COBYLA'\n",
    "grad_methods = '2-point'\n",
    "backend = 'qulacs'\n",
    "lr = 0.01\n",
    "# make sure scipy version is >= 1.5\n",
    "mthd_opt = {'finite_diff_rel_step': 0.0001}\n",
    "\n",
    "\n",
    "graph = [[0, 1], [0, 3], [1, 2], [2, 3]]\n",
    "\n",
    "param = [random.uniform(0,1) for i in range(len(graph))]\n",
    "\n",
    "#param = [1 for i in range(len(graph))]\n",
    "\n",
    "print(\"parameters = \", param)\n",
    "print(\"exact = \", exact(HP(qubits,param,graph)))\n",
    "#print(\"exact states = \", exact_state(HP(qubits,param,graph)))\n",
    "\n",
    "energ_QAOA = []\n",
    "energ_VQE = []\n",
    "param_QAOA=[]\n",
    "param_VQE=[]\n",
    "\n",
    "for layers in range(1,2*lay_max):\n",
    "    \n",
    "    Obj_QAOA = tq.ExpectationValue(H=HP(qubits,param,graph), U=QAOA_circuit(qubits,layers,graph))\n",
    "    var_QAOA = Obj_QAOA.extract_variables()\n",
    "    # Random initialization of variables\n",
    "    var0 = {key: random.uniform(0, np.pi) for key in var_QAOA}\n",
    "    initial_values = var0\n",
    "    QAOA = tq.minimize(objective=Obj_QAOA, adaptive = True, lr=lr, method_options=mthd_opt, method=methods, gradient=grad_methods, samples=None,\n",
    "                          initial_values=initial_values, backend=backend, noise=None, device=None, silent=True)      \n",
    "    \n",
    "    energ_QAOA.append(QAOA.energy)\n",
    "    param_QAOA.append(len(var_QAOA))\n",
    "    \n",
    "    print(f\"QAOA) {layers} layers ({len(var_QAOA)} parameters): {QAOA.energy}\")\n",
    "\n",
    "wfn = tq.simulate(QAOA_circuit(qubits,layers,graph), samples=100, variables=QAOA.angles, backend=backend)\n",
    "print(wfn)\n",
    "\n",
    "for layers in range(1,lay_max+1):\n",
    "    Obj_VQE = tq.ExpectationValue(H=HP(qubits,param,graph), U=VQE_HE(qubits,layers))\n",
    "    var_VQE = Obj_VQE.extract_variables()\n",
    "    # Random initialization of variables\n",
    "    var0 = {key: random.uniform(0, np.pi) for key in var_VQE}\n",
    "    initial_values = var0\n",
    "    VQE = tq.minimize(objective=Obj_VQE, adaptive = True, lr=lr, method_options=mthd_opt, method=methods, gradient=grad_methods, samples=None,\n",
    "                          initial_values=initial_values, backend=backend, noise=None, device=None, silent=True)      \n",
    "    energ_VQE.append(VQE.energy)\n",
    "    param_VQE.append(len(var_VQE))\n",
    "    \n",
    "    \n",
    "    print(f\"VQE) {layers} layers ({len(var_VQE)} parameters): {VQE.energy}\")\n",
    "    \n",
    "    #wfn = tq.simulate(VQE_HE(qubits,layers), variables=VQE.angles)\n",
    "    #print(wfn)\n",
    "wfn = tq.simulate(VQE_HE(qubits,layers), samples=100, variables=VQE.angles, backend=backend)\n",
    "print(wfn)"
   ]
  },
  {
   "cell_type": "code",
   "execution_count": 95,
   "metadata": {},
   "outputs": [
    {
     "data": {
      "image/png": "[encoded data removed]",
      "text/plain": [
       "<Figure size 432x288 with 1 Axes>"
      ]
     },
     "metadata": {
      "needs_background": "light"
     },
     "output_type": "display_data"
    }
   ],
   "source": [
    "plt.plot(param_QAOA,energ_QAOA, marker=\"*\", markersize=10,label=\"QAOA\")\n",
    "plt.plot(param_VQE,energ_VQE,marker=\".\",markersize=10,label=\"VQE\")\n",
    "plt.axhline(exact(HP(qubits,param,graph)), color=\"black\", linestyle=\":\", label=\"exact\")\n",
    "plt.xlabel(\"Variational parameters\")\n",
    "plt.ylabel(\"Objective\")\n",
    "plt.legend()\n",
    "plt.show()"
   ]
  },
  {
   "cell_type": "code",
   "execution_count": null,
   "metadata": {},
   "outputs": [],
   "source": []
  }
 ],
 "metadata": {
  "kernelspec": {
   "display_name": "Python [conda env:tqenv2] *",
   "language": "python",
   "name": "conda-env-tqenv2-py"
  },
  "language_info": {
   "codemirror_mode": {
    "name": "ipython",
    "version": 3
   },
   "file_extension": ".py",
   "mimetype": "text/x-python",
   "name": "python",
   "nbconvert_exporter": "python",
   "pygments_lexer": "ipython3",
   "version": "3.8.6"
  }
 },
 "nbformat": 4,
 "nbformat_minor": 4
}
